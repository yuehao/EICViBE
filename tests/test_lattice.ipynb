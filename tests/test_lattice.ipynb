{
 "cells": [
  {
   "cell_type": "code",
   "execution_count": 1,
   "id": "0716d898",
   "metadata": {},
   "outputs": [],
   "source": [
    "from eicvibe.machine_portal.lattice import Lattice\n",
    "from eicvibe.machine_portal.bend import Bend\n",
    "from eicvibe.machine_portal.drift import Drift\n",
    "from eicvibe.machine_portal.quadrupole import Quadrupole\n",
    "import numpy as np"
   ]
  },
  {
   "cell_type": "code",
   "execution_count": 2,
   "id": "c4883b48",
   "metadata": {},
   "outputs": [],
   "source": [
    "d1= Drift(name=\"Drift1\", length=1.0)\n",
    "b1= Bend(name=\"Bend1\", length=2.0)\n",
    "b2= Bend(name=\"Bend2\", length=2.0)\n",
    "qf= Quadrupole(name=\"Quad1\", length=0.6)\n",
    "qd= Quadrupole(name=\"Quad2\", length=0.6)\n",
    "\n",
    "\n",
    "b1.add_parameter(\"BendP\", \"ANGLE\", np.pi/20)\n",
    "b2.add_parameter(\"BendP\", \"ANGLE\", np.pi/20)\n",
    "\n",
    "\n",
    "qf.add_parameter(\"MagneticMultipoleP\", \"K1\", 1.2)\n",
    "qd.add_parameter(\"MagneticMultipoleP\", \"K1\", -1.2)\n",
    "\n",
    "\n",
    "qf.add_parameter(\"ApertureP\", \"X\", [-0.05,0.05])"
   ]
  },
  {
   "cell_type": "code",
   "execution_count": 3,
   "id": "880f905b",
   "metadata": {},
   "outputs": [],
   "source": [
    "cell = [b1, d1, qf, d1, b2, d1, qd, d1]\n",
    "fodo = Lattice(name=\"FODO\")\n",
    "for elem in cell:\n",
    "    if elem.name not in fodo.elements:\n",
    "        fodo.add_element(elem)"
   ]
  },
  {
   "cell_type": "code",
   "execution_count": 4,
   "id": "66cb22ec",
   "metadata": {},
   "outputs": [],
   "source": [
    "fodo = Lattice(name=\"FODO\")\n",
    "fodo.add_branch(\"FODO\", cell)"
   ]
  },
  {
   "cell_type": "code",
   "execution_count": 5,
   "id": "b9f89a88",
   "metadata": {},
   "outputs": [
    {
     "data": {
      "text/plain": [
       "Quadrupole(name='Quad1_1', type='Quadrupole', length=0.6, inherit='Quad1', parameters=[ParameterGroup(name=MagneticMultipoleP, type=MagneticMultipoleP, parameters={'K1': 1.2}, subgroups=[]), ParameterGroup(name=ApertureP, type=ApertureP, parameters={'X': [-0.05, 0.05]}, subgroups=[])], plot_color='C1', plot_height=0.9, plot_cross_section=0.8)"
      ]
     },
     "execution_count": 5,
     "metadata": {},
     "output_type": "execute_result"
    }
   ],
   "source": [
    "fodo.get_element(\"Quad1_1\")"
   ]
  },
  {
   "cell_type": "code",
   "execution_count": 6,
   "id": "2f7ef91f",
   "metadata": {},
   "outputs": [
    {
     "name": "stdout",
     "output_type": "stream",
     "text": [
      "name: FODO\n",
      "root_branch: FODO\n",
      "elements:\n",
      "- Bend:\n",
      "    name: Bend1\n",
      "    length: 2.0\n",
      "    BendP:\n",
      "      ANGLE: 0.15707963267948966\n",
      "- Drift:\n",
      "    name: Drift1\n",
      "    length: 1.0\n",
      "- Quadrupole:\n",
      "    name: Quad1\n",
      "    length: 0.6\n",
      "    MagneticMultipoleP:\n",
      "      K1: 1.2\n",
      "    ApertureP:\n",
      "      X:\n",
      "      - -0.05\n",
      "      - 0.05\n",
      "- Bend:\n",
      "    name: Bend2\n",
      "    length: 2.0\n",
      "    BendP:\n",
      "      ANGLE: 0.15707963267948966\n",
      "- Quadrupole:\n",
      "    name: Quad2\n",
      "    length: 0.6\n",
      "    MagneticMultipoleP:\n",
      "      K1: -1.2\n",
      "FODO:\n",
      "- Bend:\n",
      "    name: Bend1_1\n",
      "    length: 2.0\n",
      "    inherit: Bend1\n",
      "    BendP:\n",
      "      ANGLE: 0.15707963267948966\n",
      "- Drift:\n",
      "    name: Drift1_1\n",
      "    length: 1.0\n",
      "    inherit: Drift1\n",
      "- Quadrupole:\n",
      "    name: Quad1_1\n",
      "    length: 0.6\n",
      "    inherit: Quad1\n",
      "    MagneticMultipoleP:\n",
      "      K1: 1.2\n",
      "    ApertureP:\n",
      "      X:\n",
      "      - -0.05\n",
      "      - 0.05\n",
      "- Drift:\n",
      "    name: Drift1_2\n",
      "    length: 1.0\n",
      "    inherit: Drift1\n",
      "- Bend:\n",
      "    name: Bend2_1\n",
      "    length: 2.0\n",
      "    inherit: Bend2\n",
      "    BendP:\n",
      "      ANGLE: 0.15707963267948966\n",
      "- Drift:\n",
      "    name: Drift1_3\n",
      "    length: 1.0\n",
      "    inherit: Drift1\n",
      "- Quadrupole:\n",
      "    name: Quad2_1\n",
      "    length: 0.6\n",
      "    inherit: Quad2\n",
      "    MagneticMultipoleP:\n",
      "      K1: -1.2\n",
      "- Drift:\n",
      "    name: Drift1_4\n",
      "    length: 1.0\n",
      "    inherit: Drift1\n",
      "\n"
     ]
    }
   ],
   "source": [
    "fodo_yaml_dict = fodo.to_yaml_dict()\n",
    "import yaml\n",
    "print(yaml.safe_dump(fodo_yaml_dict, default_flow_style=False, sort_keys=False))\n",
    "fodo_from_yaml = Lattice.from_yaml_dict(fodo_yaml_dict)\n"
   ]
  },
  {
   "cell_type": "code",
   "execution_count": 7,
   "id": "272a3351",
   "metadata": {},
   "outputs": [
    {
     "data": {
      "text/plain": [
       "9.2"
      ]
     },
     "execution_count": 7,
     "metadata": {},
     "output_type": "execute_result"
    },
    {
     "data": {
      "image/png": "[encoded data removed]",
      "text/plain": [
       "<Figure size 1200x100 with 1 Axes>"
      ]
     },
     "metadata": {},
     "output_type": "display_data"
    }
   ],
   "source": [
    "import matplotlib.pyplot as plt\n",
    "fig, ax = plt.subplots(figsize=(12, 1))\n",
    "fodo.plot_branch_beamline(\"FODO\", ax=ax, s_start=0.0, normalized_strength=None)"
   ]
  },
  {
   "cell_type": "code",
   "execution_count": 9,
   "id": "07aa4cf1",
   "metadata": {},
   "outputs": [
    {
     "data": {
      "text/plain": [
       "((np.float64(8.975263200248625), np.float64(1.8333415835805789)),\n",
       " (np.float64(0.9510565162951536), np.float64(0.30901699437494745)))"
      ]
     },
     "execution_count": 9,
     "metadata": {},
     "output_type": "execute_result"
    },
    {
     "data": {
      "image/png": "[encoded data removed]",
      "text/plain": [
       "<Figure size 1000x1000 with 1 Axes>"
      ]
     },
     "metadata": {},
     "output_type": "display_data"
    }
   ],
   "source": [
    "import matplotlib.pyplot as plt\n",
    "fig, ax = plt.subplots(figsize=(10, 10))\n",
    "ax.set_aspect('equal')\n",
    "fodo.plot_branch_floorplan(\"FODO\", ax=ax, )"
   ]
  },
  {
   "cell_type": "code",
   "execution_count": null,
   "id": "bf6d69d5",
   "metadata": {},
   "outputs": [],
   "source": []
  }
 ],
 "metadata": {
  "kernelspec": {
   "display_name": ".venv",
   "language": "python",
   "name": "python3"
  },
  "language_info": {
   "codemirror_mode": {
    "name": "ipython",
    "version": 3
   },
   "file_extension": ".py",
   "mimetype": "text/x-python",
   "name": "python",
   "nbconvert_exporter": "python",
   "pygments_lexer": "ipython3",
   "version": "3.12.11"
  }
 },
 "nbformat": 4,
 "nbformat_minor": 5
}
