{
 "cells": [
  {
   "cell_type": "code",
   "execution_count": 1,
   "id": "4008bba4",
   "metadata": {},
   "outputs": [],
   "source": [
    "from eicvibe.machine_portal.parameter_group import ParameterGroup   \n",
    "import yaml\n"
   ]
  },
  {
   "cell_type": "code",
   "execution_count": 12,
   "id": "f1df15b2",
   "metadata": {},
   "outputs": [],
   "source": [
    "group = ParameterGroup(name=\"ExampleGroup\", type=\"BendP\")\n",
    "group.add_parameter(\"param1\", 10)\n",
    "group.add_parameter(\"param2\", \"value\")\n",
    "subgroup = ParameterGroup(name=None, type=\"SubType\")\n",
    "subgroup.add_parameter(\"subparam1\", [1.0, 2.0, 3.0])\n",
    "group.add_subgroup(subgroup)\n",
    "\n",
    "subsubgroup = ParameterGroup(name=None, type=\"SubsubType\")\n",
    "subsubgroup.add_parameter(\"subsubparam1\", \"subvalue\")\n",
    "subgroup.add_subgroup(subsubgroup)\n",
    "\n",
    "\n",
    "  \n",
    "    \n",
    "    "
   ]
  },
  {
   "cell_type": "code",
   "execution_count": 13,
   "id": "faa1d6a2",
   "metadata": {},
   "outputs": [
    {
     "data": {
      "text/plain": [
       "True"
      ]
     },
     "execution_count": 13,
     "metadata": {},
     "output_type": "execute_result"
    }
   ],
   "source": [
    "dict1=group.to_dict()\n",
    "group1 = ParameterGroup.from_dict(dict1)\n",
    "group1==group"
   ]
  },
  {
   "cell_type": "code",
   "execution_count": 14,
   "id": "986716ed",
   "metadata": {},
   "outputs": [],
   "source": [
    "yamldict=group1.to_yaml_dict()\n",
    "\n",
    "yaml_str = yaml.safe_dump(yamldict, default_flow_style=False, sort_keys=False)"
   ]
  },
  {
   "cell_type": "markdown",
   "id": "9363babf",
   "metadata": {},
   "source": []
  },
  {
   "cell_type": "code",
   "execution_count": 15,
   "id": "f9489688",
   "metadata": {},
   "outputs": [
    {
     "name": "stdout",
     "output_type": "stream",
     "text": [
      "param1: 10\n",
      "param2: value\n",
      "SubType:\n",
      "  subparam1:\n",
      "  - 1.0\n",
      "  - 2.0\n",
      "  - 3.0\n",
      "  SubsubType:\n",
      "    subsubparam1: subvalue\n",
      "\n"
     ]
    }
   ],
   "source": [
    "print(yaml_str) "
   ]
  },
  {
   "cell_type": "code",
   "execution_count": null,
   "id": "103d6fa0",
   "metadata": {},
   "outputs": [],
   "source": []
  }
 ],
 "metadata": {
  "kernelspec": {
   "display_name": "eicvibe",
   "language": "python",
   "name": "python3"
  },
  "language_info": {
   "codemirror_mode": {
    "name": "ipython",
    "version": 3
   },
   "file_extension": ".py",
   "mimetype": "text/x-python",
   "name": "python",
   "nbconvert_exporter": "python",
   "pygments_lexer": "ipython3",
   "version": "3.12.11"
  }
 },
 "nbformat": 4,
 "nbformat_minor": 5
}
