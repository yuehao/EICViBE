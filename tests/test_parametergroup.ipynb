{
 "cells": [
  {
   "cell_type": "code",
   "execution_count": 1,
   "id": "4008bba4",
   "metadata": {},
   "outputs": [],
   "source": [
    "from eicvibe.machine_portal.parameter_group import ParameterGroup   \n",
    "import yaml\n"
   ]
  },
  {
   "cell_type": "code",
   "execution_count": 2,
   "id": "f1df15b2",
   "metadata": {},
   "outputs": [],
   "source": [
    "group = ParameterGroup(name=\"ExampleGroup\", type=\"BendP\")\n",
    "group.add_parameter(\"param1\", 10)\n",
    "group.add_parameter(\"param2\", \"value\")\n",
    "subgroup = ParameterGroup(name=None, type=\"SubType\")\n",
    "subgroup.add_parameter(\"subparam1\", [1.0, 2.0, 3.0])\n",
    "group.add_subgroup(subgroup)\n",
    "\n",
    "  \n",
    "    \n",
    "    "
   ]
  },
  {
   "cell_type": "code",
   "execution_count": 3,
   "id": "faa1d6a2",
   "metadata": {},
   "outputs": [],
   "source": [
    "dict1=group.to_dict()\n",
    "group1 = ParameterGroup.from_dict(dict1)"
   ]
  },
  {
   "cell_type": "code",
   "execution_count": 9,
   "id": "986716ed",
   "metadata": {},
   "outputs": [
    {
     "name": "stdout",
     "output_type": "stream",
     "text": [
      "name: ExampleGroup\n",
      "parameters:\n",
      "  param1: 10\n",
      "  param2: value\n",
      "subgroups:\n",
      "- name: null\n",
      "  parameters:\n",
      "    subparam1:\n",
      "    - 1.0\n",
      "    - 2.0\n",
      "    - 3.0\n",
      "  subgroups: []\n",
      "  type: SubType\n",
      "type: BendP\n",
      "\n"
     ]
    }
   ],
   "source": [
    "yaml_str = yaml.safe_dump(dict1, default_flow_style=False, sort_keys=True)\n",
    "print(yaml_str)"
   ]
  },
  {
   "cell_type": "code",
   "execution_count": null,
   "id": "f9489688",
   "metadata": {},
   "outputs": [],
   "source": []
  },
  {
   "cell_type": "code",
   "execution_count": null,
   "id": "103d6fa0",
   "metadata": {},
   "outputs": [],
   "source": []
  }
 ],
 "metadata": {
  "kernelspec": {
   "display_name": ".venv",
   "language": "python",
   "name": "python3"
  },
  "language_info": {
   "codemirror_mode": {
    "name": "ipython",
    "version": 3
   },
   "file_extension": ".py",
   "mimetype": "text/x-python",
   "name": "python",
   "nbconvert_exporter": "python",
   "pygments_lexer": "ipython3",
   "version": "3.12.11"
  }
 },
 "nbformat": 4,
 "nbformat_minor": 5
}
